{
 "cells": [
  {
   "cell_type": "code",
   "execution_count": null,
   "id": "9d1f5d85",
   "metadata": {},
   "outputs": [
    {
     "name": "stdout",
     "output_type": "stream",
     "text": [
      "_____trace\n",
      "letters in correct place (green):  ['', '', '', '', '']\n",
      "letter that exist (yellow):  []\n",
      "Chances taken:  1\n",
      "_____would\n",
      "letters in correct place (green):  ['', '', '', 'l', '']\n",
      "letter that exist (yellow):  []\n",
      "Chances taken:  2\n",
      "_____hills\n",
      "letters in correct place (green):  ['', '', '', '', '']\n",
      "letter that exist (yellow):  ['i', 'l', 'l', 's']\n",
      "Chances taken:  3\n",
      "_____bills\n",
      "letters in correct place (green):  ['', '', '', '', '']\n",
      "letter that exist (yellow):  ['i', 'l', 'l', 's']\n",
      "Chances taken:  4\n",
      "_____pills\n",
      "letters in correct place (green):  ['', '', '', '', '']\n",
      "letter that exist (yellow):  ['p', 'i', 'l', 'l', 's']\n",
      "Chances taken:  5\n"
     ]
    }
   ],
   "source": [
    "import numpy as np\n",
    "\n",
    "word_len = int(input(\"Enter Word length(4,5,6,7): \"))\n",
    "        \n",
    "accepted_words = []\n",
    "allowed_words = []\n",
    "\n",
    "d3 = open(\"count_1w.txt\")\n",
    "word_f = []\n",
    "word_f = d3.read().split('\\n')\n",
    "\n",
    "for t in tqdm(word_f):\n",
    "    temp = t.split('\\t')\n",
    "    if(len(temp[0]) == word_len):\n",
    "        allowed_words.append(temp[0])\n",
    "\n",
    "        \n",
    "y = np.random.rand(1)\n",
    "y = np.round(y*len(accepted_words))\n",
    "for t in y:\n",
    "    target= accepted_words[t.astype(int)]\n",
    "chances = 6\n",
    "inp = ['']*chances\n",
    "target = \"spill\"\n",
    "count = 0\n",
    "for i in range(chances):\n",
    "    flag = False\n",
    "    count = count+1\n",
    "    while(True):\n",
    "        inp[i] = input(\"_____\")\n",
    "        if(len(inp[i]) != 5 #change):\n",
    "            print(\"word should be 5 letters\")\n",
    "            continue\n",
    "        else:\n",
    "            if(inp[i] in allowed_words):\n",
    "                step_ans_exist=[]\n",
    "                step_ans_cor_place=['']*5 #change\n",
    "                temp = target\n",
    "                if(inp[i] == target):\n",
    "                    print(\"target word was: \",inp[i])\n",
    "                    print(\"Chances taken: \",count)\n",
    "                    flag = True\n",
    "                    break\n",
    "                else:\n",
    "                    temp_i = inp[i]\n",
    "                    l_c = 0\n",
    "                    for j in inp[i]:\n",
    "                        if(j in temp):\n",
    "                            if(temp_i.index(j)==temp.index(j)):\n",
    "                                #print(temp_i.index(j),temp.index(j))\n",
    "                                step_ans_cor_place[temp.index(j)] = j\n",
    "                            elif(temp[l_c] == j):\n",
    "                                step_ans_cor_place[l_c] = j\n",
    "                            else:\n",
    "                                step_ans_exist.append(j)\n",
    "                            temp=temp.replace(j,'#',1)\n",
    "                            temp_i = temp_i.replace(j,'#',1)\n",
    "\n",
    "                            #print(temp)\n",
    "                        l_c+=1\n",
    "                    print(\"letters in correct place (green): \",step_ans_cor_place)\n",
    "                    print(\"letter that exist (yellow): \",step_ans_exist)\n",
    "                    print(\"Chances taken: \",count)\n",
    "                break\n",
    "            else:\n",
    "                print(\"NOT VALID TRY AGAIN\")\n",
    "    if(flag == True):\n",
    "        break\n",
    "if(flag==False):\n",
    "    print(\"YOU HAVE LOST! Word was: \",target)"
   ]
  },
  {
   "cell_type": "code",
   "execution_count": 3,
   "id": "d5c69a0c",
   "metadata": {},
   "outputs": [
    {
     "name": "stdout",
     "output_type": "stream",
     "text": [
      "aalii\n"
     ]
    }
   ],
   "source": [
    "print(target)"
   ]
  },
  {
   "cell_type": "code",
   "execution_count": 3,
   "id": "b2fd07a7",
   "metadata": {},
   "outputs": [
    {
     "name": "stdout",
     "output_type": "stream",
     "text": [
      "#rout\n"
     ]
    }
   ],
   "source": [
    "x = \"trout\"\n",
    "print(x.replace('t','#',1))"
   ]
  },
  {
   "cell_type": "code",
   "execution_count": 4,
   "id": "22b02264",
   "metadata": {},
   "outputs": [
    {
     "name": "stderr",
     "output_type": "stream",
     "text": [
      "100%|██████████████████████████████████████████| 3/3 [00:00<00:00, 65196.44it/s]"
     ]
    },
    {
     "name": "stdout",
     "output_type": "stream",
     "text": [
      "Information bit:  0.7219280948873623 0.7219280948873623\n"
     ]
    },
    {
     "name": "stderr",
     "output_type": "stream",
     "text": [
      "\n"
     ]
    }
   ],
   "source": [
    "from tqdm import tqdm\n",
    "from math import *\n",
    "from scipy.stats import entropy as en\n",
    "prob = [0.8,0.2,0.0]\n",
    "e = 0\n",
    "for i in tqdm(prob):\n",
    "    if(i != 0):\n",
    "        e = e - i*log2(i)\n",
    "    else:\n",
    "        e = e - i*log2(i+1)\n",
    "E = en(prob, base=2)\n",
    "print(\"Information bit: \",e,E)"
   ]
  },
  {
   "cell_type": "code",
   "execution_count": null,
   "id": "c1134323",
   "metadata": {},
   "outputs": [],
   "source": []
  }
 ],
 "metadata": {
  "kernelspec": {
   "display_name": "Python 3.9 (tensorflow)",
   "language": "python",
   "name": "tensorflow"
  },
  "language_info": {
   "codemirror_mode": {
    "name": "ipython",
    "version": 3
   },
   "file_extension": ".py",
   "mimetype": "text/x-python",
   "name": "python",
   "nbconvert_exporter": "python",
   "pygments_lexer": "ipython3",
   "version": "3.9.10"
  }
 },
 "nbformat": 4,
 "nbformat_minor": 5
}
