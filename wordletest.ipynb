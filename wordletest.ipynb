{
 "cells": [
  {
   "cell_type": "code",
   "execution_count": 1,
   "id": "9d1f5d85",
   "metadata": {},
   "outputs": [
    {
     "name": "stdout",
     "output_type": "stream",
     "text": [
      "_____earth\n",
      "letters in correct place (green):  ['', '', '', '', '']\n",
      "letter that exist (yellow):  ['r']\n",
      "Chances taken:  1\n",
      "_____group\n",
      "letters in correct place (green):  ['', 'r', 'o', '', '']\n",
      "letter that exist (yellow):  ['p']\n",
      "Chances taken:  2\n"
     ]
    },
    {
     "ename": "KeyboardInterrupt",
     "evalue": "Interrupted by user",
     "output_type": "error",
     "traceback": [
      "\u001b[0;31m---------------------------------------------------------------------------\u001b[0m",
      "\u001b[0;31mKeyboardInterrupt\u001b[0m                         Traceback (most recent call last)",
      "Cell \u001b[0;32mIn [1], line 20\u001b[0m\n\u001b[1;32m     18\u001b[0m count \u001b[38;5;241m=\u001b[39m count\u001b[38;5;241m+\u001b[39m\u001b[38;5;241m1\u001b[39m\n\u001b[1;32m     19\u001b[0m \u001b[38;5;28;01mwhile\u001b[39;00m(\u001b[38;5;28;01mTrue\u001b[39;00m):\n\u001b[0;32m---> 20\u001b[0m     inp[i] \u001b[38;5;241m=\u001b[39m \u001b[38;5;28;43minput\u001b[39;49m\u001b[43m(\u001b[49m\u001b[38;5;124;43m\"\u001b[39;49m\u001b[38;5;124;43m_____\u001b[39;49m\u001b[38;5;124;43m\"\u001b[39;49m\u001b[43m)\u001b[49m\n\u001b[1;32m     21\u001b[0m     \u001b[38;5;28;01mif\u001b[39;00m(\u001b[38;5;28mlen\u001b[39m(inp[i]) \u001b[38;5;241m!=\u001b[39m \u001b[38;5;241m5\u001b[39m):\u001b[38;5;66;03m#change\u001b[39;00m\n\u001b[1;32m     22\u001b[0m         \u001b[38;5;28mprint\u001b[39m(\u001b[38;5;124m\"\u001b[39m\u001b[38;5;124mword should be 5 letters\u001b[39m\u001b[38;5;124m\"\u001b[39m)\n",
      "File \u001b[0;32m/opt/homebrew/Caskroom/miniforge/base/envs/tensorflow/lib/python3.9/site-packages/ipykernel/kernelbase.py:1177\u001b[0m, in \u001b[0;36mKernel.raw_input\u001b[0;34m(self, prompt)\u001b[0m\n\u001b[1;32m   1173\u001b[0m \u001b[38;5;28;01mif\u001b[39;00m \u001b[38;5;129;01mnot\u001b[39;00m \u001b[38;5;28mself\u001b[39m\u001b[38;5;241m.\u001b[39m_allow_stdin:\n\u001b[1;32m   1174\u001b[0m     \u001b[38;5;28;01mraise\u001b[39;00m StdinNotImplementedError(\n\u001b[1;32m   1175\u001b[0m         \u001b[38;5;124m\"\u001b[39m\u001b[38;5;124mraw_input was called, but this frontend does not support input requests.\u001b[39m\u001b[38;5;124m\"\u001b[39m\n\u001b[1;32m   1176\u001b[0m     )\n\u001b[0;32m-> 1177\u001b[0m \u001b[38;5;28;01mreturn\u001b[39;00m \u001b[38;5;28;43mself\u001b[39;49m\u001b[38;5;241;43m.\u001b[39;49m\u001b[43m_input_request\u001b[49m\u001b[43m(\u001b[49m\n\u001b[1;32m   1178\u001b[0m \u001b[43m    \u001b[49m\u001b[38;5;28;43mstr\u001b[39;49m\u001b[43m(\u001b[49m\u001b[43mprompt\u001b[49m\u001b[43m)\u001b[49m\u001b[43m,\u001b[49m\n\u001b[1;32m   1179\u001b[0m \u001b[43m    \u001b[49m\u001b[38;5;28;43mself\u001b[39;49m\u001b[38;5;241;43m.\u001b[39;49m\u001b[43m_parent_ident\u001b[49m\u001b[43m[\u001b[49m\u001b[38;5;124;43m\"\u001b[39;49m\u001b[38;5;124;43mshell\u001b[39;49m\u001b[38;5;124;43m\"\u001b[39;49m\u001b[43m]\u001b[49m\u001b[43m,\u001b[49m\n\u001b[1;32m   1180\u001b[0m \u001b[43m    \u001b[49m\u001b[38;5;28;43mself\u001b[39;49m\u001b[38;5;241;43m.\u001b[39;49m\u001b[43mget_parent\u001b[49m\u001b[43m(\u001b[49m\u001b[38;5;124;43m\"\u001b[39;49m\u001b[38;5;124;43mshell\u001b[39;49m\u001b[38;5;124;43m\"\u001b[39;49m\u001b[43m)\u001b[49m\u001b[43m,\u001b[49m\n\u001b[1;32m   1181\u001b[0m \u001b[43m    \u001b[49m\u001b[43mpassword\u001b[49m\u001b[38;5;241;43m=\u001b[39;49m\u001b[38;5;28;43;01mFalse\u001b[39;49;00m\u001b[43m,\u001b[49m\n\u001b[1;32m   1182\u001b[0m \u001b[43m\u001b[49m\u001b[43m)\u001b[49m\n",
      "File \u001b[0;32m/opt/homebrew/Caskroom/miniforge/base/envs/tensorflow/lib/python3.9/site-packages/ipykernel/kernelbase.py:1219\u001b[0m, in \u001b[0;36mKernel._input_request\u001b[0;34m(self, prompt, ident, parent, password)\u001b[0m\n\u001b[1;32m   1216\u001b[0m             \u001b[38;5;28;01mbreak\u001b[39;00m\n\u001b[1;32m   1217\u001b[0m \u001b[38;5;28;01mexcept\u001b[39;00m \u001b[38;5;167;01mKeyboardInterrupt\u001b[39;00m:\n\u001b[1;32m   1218\u001b[0m     \u001b[38;5;66;03m# re-raise KeyboardInterrupt, to truncate traceback\u001b[39;00m\n\u001b[0;32m-> 1219\u001b[0m     \u001b[38;5;28;01mraise\u001b[39;00m \u001b[38;5;167;01mKeyboardInterrupt\u001b[39;00m(\u001b[38;5;124m\"\u001b[39m\u001b[38;5;124mInterrupted by user\u001b[39m\u001b[38;5;124m\"\u001b[39m) \u001b[38;5;28;01mfrom\u001b[39;00m \u001b[38;5;28mNone\u001b[39m\n\u001b[1;32m   1220\u001b[0m \u001b[38;5;28;01mexcept\u001b[39;00m \u001b[38;5;167;01mException\u001b[39;00m:\n\u001b[1;32m   1221\u001b[0m     \u001b[38;5;28mself\u001b[39m\u001b[38;5;241m.\u001b[39mlog\u001b[38;5;241m.\u001b[39mwarning(\u001b[38;5;124m\"\u001b[39m\u001b[38;5;124mInvalid Message:\u001b[39m\u001b[38;5;124m\"\u001b[39m, exc_info\u001b[38;5;241m=\u001b[39m\u001b[38;5;28;01mTrue\u001b[39;00m)\n",
      "\u001b[0;31mKeyboardInterrupt\u001b[0m: Interrupted by user"
     ]
    }
   ],
   "source": [
    "import numpy as np\n",
    "d1 =open(\"accepted.txt\")\n",
    "d2 = open(\"allowed.txt\")\n",
    "accepted_words = []\n",
    "accepted_words = d1.read().split(' ')\n",
    "allowed_words = []\n",
    "allowed_words = d2.read().split(' ')\n",
    "y = np.random.rand(1)\n",
    "y = np.round(y*len(accepted_words))\n",
    "for t in y:\n",
    "    target= accepted_words[t.astype(int)]\n",
    "chances = 6\n",
    "inp = ['']*chances\n",
    "target = \"proof\"\n",
    "count = 0\n",
    "for i in range(chances):\n",
    "    flag = False\n",
    "    count = count+1\n",
    "    while(True):\n",
    "        inp[i] = input(\"_____\")\n",
    "        if(len(inp[i]) != 5):#change\n",
    "            print(\"word should be 5 letters\")\n",
    "            continue\n",
    "        else:\n",
    "            if(inp[i] in allowed_words):\n",
    "                step_ans_exist=[]\n",
    "                step_ans_cor_place=['']*5 #change\n",
    "                temp = target\n",
    "                if(inp[i] == target):\n",
    "                    print(\"target word was: \",inp[i])\n",
    "                    print(\"Chances taken: \",count)\n",
    "                    flag = True\n",
    "                    break\n",
    "                else:\n",
    "                    temp_i = inp[i]\n",
    "                    l_c = 0\n",
    "                    for j in inp[i]:\n",
    "                        if(j in temp):\n",
    "                            if(temp_i.index(j)==temp.index(j)):\n",
    "                                #print(temp_i.index(j),temp.index(j))\n",
    "                                step_ans_cor_place[temp.index(j)] = j\n",
    "                            elif(temp[l_c] == j):\n",
    "                                step_ans_cor_place[l_c] = j\n",
    "                            else:\n",
    "                                step_ans_exist.append(j)\n",
    "                            temp=temp.replace(j,'#',1)\n",
    "                            temp_i = temp_i.replace(j,'#',1)\n",
    "\n",
    "                            #print(temp)\n",
    "                        l_c+=1\n",
    "                    print(\"letters in correct place (green): \",step_ans_cor_place)\n",
    "                    print(\"letter that exist (yellow): \",step_ans_exist)\n",
    "                    print(\"Chances taken: \",count)\n",
    "                break\n",
    "            else:\n",
    "                print(\"NOT VALID TRY AGAIN\")\n",
    "    if(flag == True):\n",
    "        break\n",
    "if(flag==False):\n",
    "    print(\"YOU HAVE LOST! Word was: \",target)"
   ]
  },
  {
   "cell_type": "code",
   "execution_count": 3,
   "id": "d5c69a0c",
   "metadata": {},
   "outputs": [
    {
     "name": "stdout",
     "output_type": "stream",
     "text": [
      "aalii\n"
     ]
    }
   ],
   "source": [
    "print(target)"
   ]
  },
  {
   "cell_type": "code",
   "execution_count": 3,
   "id": "b2fd07a7",
   "metadata": {},
   "outputs": [
    {
     "name": "stdout",
     "output_type": "stream",
     "text": [
      "#rout\n"
     ]
    }
   ],
   "source": [
    "x = \"trout\"\n",
    "print(x.replace('t','#',1))"
   ]
  },
  {
   "cell_type": "code",
   "execution_count": 4,
   "id": "22b02264",
   "metadata": {},
   "outputs": [
    {
     "name": "stderr",
     "output_type": "stream",
     "text": [
      "100%|██████████████████████████████████████████| 3/3 [00:00<00:00, 65196.44it/s]"
     ]
    },
    {
     "name": "stdout",
     "output_type": "stream",
     "text": [
      "Information bit:  0.7219280948873623 0.7219280948873623\n"
     ]
    },
    {
     "name": "stderr",
     "output_type": "stream",
     "text": [
      "\n"
     ]
    }
   ],
   "source": [
    "from tqdm import tqdm\n",
    "from math import *\n",
    "from scipy.stats import entropy as en\n",
    "prob = [0.8,0.2,0.0]\n",
    "e = 0\n",
    "for i in tqdm(prob):\n",
    "    if(i != 0):\n",
    "        e = e - i*log2(i)\n",
    "    else:\n",
    "        e = e - i*log2(i+1)\n",
    "E = en(prob, base=2)\n",
    "print(\"Information bit: \",e,E)"
   ]
  },
  {
   "cell_type": "code",
   "execution_count": 2,
   "id": "c1134323",
   "metadata": {},
   "outputs": [
    {
     "name": "stdout",
     "output_type": "stream",
     "text": [
      "10\n"
     ]
    }
   ],
   "source": [
    "c = 10\n",
    "print(c)"
   ]
  },
  {
   "cell_type": "code",
   "execution_count": null,
   "id": "2a81cfe0",
   "metadata": {},
   "outputs": [],
   "source": []
  }
 ],
 "metadata": {
  "kernelspec": {
   "display_name": "Python 3.9 (tensorflow)",
   "language": "python",
   "name": "tensorflow"
  },
  "language_info": {
   "codemirror_mode": {
    "name": "ipython",
    "version": 3
   },
   "file_extension": ".py",
   "mimetype": "text/x-python",
   "name": "python",
   "nbconvert_exporter": "python",
   "pygments_lexer": "ipython3",
   "version": "3.9.13"
  }
 },
 "nbformat": 4,
 "nbformat_minor": 5
}
